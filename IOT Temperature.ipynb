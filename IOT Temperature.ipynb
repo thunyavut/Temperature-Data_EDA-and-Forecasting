{
 "cells": [
  {
   "cell_type": "code",
   "execution_count": 1,
   "id": "7e9a89e0",
   "metadata": {},
   "outputs": [
    {
     "data": {
      "text/html": [
       "<div>\n",
       "<style scoped>\n",
       "    .dataframe tbody tr th:only-of-type {\n",
       "        vertical-align: middle;\n",
       "    }\n",
       "\n",
       "    .dataframe tbody tr th {\n",
       "        vertical-align: top;\n",
       "    }\n",
       "\n",
       "    .dataframe thead th {\n",
       "        text-align: right;\n",
       "    }\n",
       "</style>\n",
       "<table border=\"1\" class=\"dataframe\">\n",
       "  <thead>\n",
       "    <tr style=\"text-align: right;\">\n",
       "      <th></th>\n",
       "      <th>id</th>\n",
       "      <th>room_id/id</th>\n",
       "      <th>noted_date</th>\n",
       "      <th>temp</th>\n",
       "      <th>out/in</th>\n",
       "    </tr>\n",
       "  </thead>\n",
       "  <tbody>\n",
       "    <tr>\n",
       "      <th>0</th>\n",
       "      <td>__export__.temp_log_196134_bd201015</td>\n",
       "      <td>Room Admin</td>\n",
       "      <td>08-12-2018 09:30</td>\n",
       "      <td>29</td>\n",
       "      <td>In</td>\n",
       "    </tr>\n",
       "    <tr>\n",
       "      <th>1</th>\n",
       "      <td>__export__.temp_log_196131_7bca51bc</td>\n",
       "      <td>Room Admin</td>\n",
       "      <td>08-12-2018 09:30</td>\n",
       "      <td>29</td>\n",
       "      <td>In</td>\n",
       "    </tr>\n",
       "    <tr>\n",
       "      <th>2</th>\n",
       "      <td>__export__.temp_log_196127_522915e3</td>\n",
       "      <td>Room Admin</td>\n",
       "      <td>08-12-2018 09:29</td>\n",
       "      <td>41</td>\n",
       "      <td>Out</td>\n",
       "    </tr>\n",
       "    <tr>\n",
       "      <th>3</th>\n",
       "      <td>__export__.temp_log_196128_be0919cf</td>\n",
       "      <td>Room Admin</td>\n",
       "      <td>08-12-2018 09:29</td>\n",
       "      <td>41</td>\n",
       "      <td>Out</td>\n",
       "    </tr>\n",
       "    <tr>\n",
       "      <th>4</th>\n",
       "      <td>__export__.temp_log_196126_d30b72fb</td>\n",
       "      <td>Room Admin</td>\n",
       "      <td>08-12-2018 09:29</td>\n",
       "      <td>31</td>\n",
       "      <td>In</td>\n",
       "    </tr>\n",
       "    <tr>\n",
       "      <th>...</th>\n",
       "      <td>...</td>\n",
       "      <td>...</td>\n",
       "      <td>...</td>\n",
       "      <td>...</td>\n",
       "      <td>...</td>\n",
       "    </tr>\n",
       "    <tr>\n",
       "      <th>97601</th>\n",
       "      <td>__export__.temp_log_91076_7fbd08ca</td>\n",
       "      <td>Room Admin</td>\n",
       "      <td>28-07-2018 07:07</td>\n",
       "      <td>31</td>\n",
       "      <td>In</td>\n",
       "    </tr>\n",
       "    <tr>\n",
       "      <th>97602</th>\n",
       "      <td>__export__.temp_log_147733_62c03f31</td>\n",
       "      <td>Room Admin</td>\n",
       "      <td>28-07-2018 07:07</td>\n",
       "      <td>31</td>\n",
       "      <td>In</td>\n",
       "    </tr>\n",
       "    <tr>\n",
       "      <th>97603</th>\n",
       "      <td>__export__.temp_log_100386_84093a68</td>\n",
       "      <td>Room Admin</td>\n",
       "      <td>28-07-2018 07:06</td>\n",
       "      <td>31</td>\n",
       "      <td>In</td>\n",
       "    </tr>\n",
       "    <tr>\n",
       "      <th>97604</th>\n",
       "      <td>__export__.temp_log_123297_4d8e690b</td>\n",
       "      <td>Room Admin</td>\n",
       "      <td>28-07-2018 07:06</td>\n",
       "      <td>31</td>\n",
       "      <td>In</td>\n",
       "    </tr>\n",
       "    <tr>\n",
       "      <th>97605</th>\n",
       "      <td>__export__.temp_log_133741_32958703</td>\n",
       "      <td>Room Admin</td>\n",
       "      <td>28-07-2018 07:06</td>\n",
       "      <td>31</td>\n",
       "      <td>In</td>\n",
       "    </tr>\n",
       "  </tbody>\n",
       "</table>\n",
       "<p>97606 rows × 5 columns</p>\n",
       "</div>"
      ],
      "text/plain": [
       "                                        id  room_id/id        noted_date  \\\n",
       "0      __export__.temp_log_196134_bd201015  Room Admin  08-12-2018 09:30   \n",
       "1      __export__.temp_log_196131_7bca51bc  Room Admin  08-12-2018 09:30   \n",
       "2      __export__.temp_log_196127_522915e3  Room Admin  08-12-2018 09:29   \n",
       "3      __export__.temp_log_196128_be0919cf  Room Admin  08-12-2018 09:29   \n",
       "4      __export__.temp_log_196126_d30b72fb  Room Admin  08-12-2018 09:29   \n",
       "...                                    ...         ...               ...   \n",
       "97601   __export__.temp_log_91076_7fbd08ca  Room Admin  28-07-2018 07:07   \n",
       "97602  __export__.temp_log_147733_62c03f31  Room Admin  28-07-2018 07:07   \n",
       "97603  __export__.temp_log_100386_84093a68  Room Admin  28-07-2018 07:06   \n",
       "97604  __export__.temp_log_123297_4d8e690b  Room Admin  28-07-2018 07:06   \n",
       "97605  __export__.temp_log_133741_32958703  Room Admin  28-07-2018 07:06   \n",
       "\n",
       "       temp out/in  \n",
       "0        29     In  \n",
       "1        29     In  \n",
       "2        41    Out  \n",
       "3        41    Out  \n",
       "4        31     In  \n",
       "...     ...    ...  \n",
       "97601    31     In  \n",
       "97602    31     In  \n",
       "97603    31     In  \n",
       "97604    31     In  \n",
       "97605    31     In  \n",
       "\n",
       "[97606 rows x 5 columns]"
      ]
     },
     "execution_count": 1,
     "metadata": {},
     "output_type": "execute_result"
    }
   ],
   "source": [
    "import pandas as pd\n",
    "import numpy as np\n",
    "import seaborn as sns\n",
    "import matplotlib.pyplot as plt\n",
    "df = pd.read_csv('IOT-temp.csv')\n",
    "df"
   ]
  },
  {
   "cell_type": "markdown",
   "id": "b932c77e",
   "metadata": {},
   "source": [
    "### Check for duplicate rows"
   ]
  },
  {
   "cell_type": "code",
   "execution_count": 2,
   "id": "4d01c9ed",
   "metadata": {},
   "outputs": [
    {
     "data": {
      "text/html": [
       "<div>\n",
       "<style scoped>\n",
       "    .dataframe tbody tr th:only-of-type {\n",
       "        vertical-align: middle;\n",
       "    }\n",
       "\n",
       "    .dataframe tbody tr th {\n",
       "        vertical-align: top;\n",
       "    }\n",
       "\n",
       "    .dataframe thead th {\n",
       "        text-align: right;\n",
       "    }\n",
       "</style>\n",
       "<table border=\"1\" class=\"dataframe\">\n",
       "  <thead>\n",
       "    <tr style=\"text-align: right;\">\n",
       "      <th></th>\n",
       "      <th>id</th>\n",
       "      <th>room_id/id</th>\n",
       "      <th>noted_date</th>\n",
       "      <th>temp</th>\n",
       "      <th>out/in</th>\n",
       "    </tr>\n",
       "  </thead>\n",
       "  <tbody>\n",
       "    <tr>\n",
       "      <th>11</th>\n",
       "      <td>__export__.temp_log_196108_4a983c7e</td>\n",
       "      <td>Room Admin</td>\n",
       "      <td>08-12-2018 09:25</td>\n",
       "      <td>42</td>\n",
       "      <td>Out</td>\n",
       "    </tr>\n",
       "  </tbody>\n",
       "</table>\n",
       "</div>"
      ],
      "text/plain": [
       "                                     id  room_id/id        noted_date  temp  \\\n",
       "11  __export__.temp_log_196108_4a983c7e  Room Admin  08-12-2018 09:25    42   \n",
       "\n",
       "   out/in  \n",
       "11    Out  "
      ]
     },
     "execution_count": 2,
     "metadata": {},
     "output_type": "execute_result"
    }
   ],
   "source": [
    "df[df.duplicated()]"
   ]
  },
  {
   "cell_type": "code",
   "execution_count": 3,
   "id": "1efbf97e",
   "metadata": {},
   "outputs": [],
   "source": [
    "df.drop_duplicates(inplace=True)"
   ]
  },
  {
   "cell_type": "code",
   "execution_count": 4,
   "id": "2cb5b3cb",
   "metadata": {},
   "outputs": [
    {
     "name": "stdout",
     "output_type": "stream",
     "text": [
      "['Room Admin']\n",
      "['In' 'Out']\n"
     ]
    }
   ],
   "source": [
    "print(df['room_id/id'].unique())\n",
    "print(df['out/in'].unique())"
   ]
  },
  {
   "cell_type": "markdown",
   "id": "6b70ba0a",
   "metadata": {},
   "source": [
    "### Drop unnecessary columns"
   ]
  },
  {
   "cell_type": "code",
   "execution_count": 5,
   "id": "27728958",
   "metadata": {},
   "outputs": [
    {
     "data": {
      "text/html": [
       "<div>\n",
       "<style scoped>\n",
       "    .dataframe tbody tr th:only-of-type {\n",
       "        vertical-align: middle;\n",
       "    }\n",
       "\n",
       "    .dataframe tbody tr th {\n",
       "        vertical-align: top;\n",
       "    }\n",
       "\n",
       "    .dataframe thead th {\n",
       "        text-align: right;\n",
       "    }\n",
       "</style>\n",
       "<table border=\"1\" class=\"dataframe\">\n",
       "  <thead>\n",
       "    <tr style=\"text-align: right;\">\n",
       "      <th></th>\n",
       "      <th>noted_date</th>\n",
       "      <th>temp</th>\n",
       "      <th>out/in</th>\n",
       "    </tr>\n",
       "  </thead>\n",
       "  <tbody>\n",
       "    <tr>\n",
       "      <th>0</th>\n",
       "      <td>08-12-2018 09:30</td>\n",
       "      <td>29</td>\n",
       "      <td>In</td>\n",
       "    </tr>\n",
       "    <tr>\n",
       "      <th>1</th>\n",
       "      <td>08-12-2018 09:30</td>\n",
       "      <td>29</td>\n",
       "      <td>In</td>\n",
       "    </tr>\n",
       "    <tr>\n",
       "      <th>2</th>\n",
       "      <td>08-12-2018 09:29</td>\n",
       "      <td>41</td>\n",
       "      <td>Out</td>\n",
       "    </tr>\n",
       "    <tr>\n",
       "      <th>3</th>\n",
       "      <td>08-12-2018 09:29</td>\n",
       "      <td>41</td>\n",
       "      <td>Out</td>\n",
       "    </tr>\n",
       "    <tr>\n",
       "      <th>4</th>\n",
       "      <td>08-12-2018 09:29</td>\n",
       "      <td>31</td>\n",
       "      <td>In</td>\n",
       "    </tr>\n",
       "    <tr>\n",
       "      <th>...</th>\n",
       "      <td>...</td>\n",
       "      <td>...</td>\n",
       "      <td>...</td>\n",
       "    </tr>\n",
       "    <tr>\n",
       "      <th>97601</th>\n",
       "      <td>28-07-2018 07:07</td>\n",
       "      <td>31</td>\n",
       "      <td>In</td>\n",
       "    </tr>\n",
       "    <tr>\n",
       "      <th>97602</th>\n",
       "      <td>28-07-2018 07:07</td>\n",
       "      <td>31</td>\n",
       "      <td>In</td>\n",
       "    </tr>\n",
       "    <tr>\n",
       "      <th>97603</th>\n",
       "      <td>28-07-2018 07:06</td>\n",
       "      <td>31</td>\n",
       "      <td>In</td>\n",
       "    </tr>\n",
       "    <tr>\n",
       "      <th>97604</th>\n",
       "      <td>28-07-2018 07:06</td>\n",
       "      <td>31</td>\n",
       "      <td>In</td>\n",
       "    </tr>\n",
       "    <tr>\n",
       "      <th>97605</th>\n",
       "      <td>28-07-2018 07:06</td>\n",
       "      <td>31</td>\n",
       "      <td>In</td>\n",
       "    </tr>\n",
       "  </tbody>\n",
       "</table>\n",
       "<p>97605 rows × 3 columns</p>\n",
       "</div>"
      ],
      "text/plain": [
       "             noted_date  temp out/in\n",
       "0      08-12-2018 09:30    29     In\n",
       "1      08-12-2018 09:30    29     In\n",
       "2      08-12-2018 09:29    41    Out\n",
       "3      08-12-2018 09:29    41    Out\n",
       "4      08-12-2018 09:29    31     In\n",
       "...                 ...   ...    ...\n",
       "97601  28-07-2018 07:07    31     In\n",
       "97602  28-07-2018 07:07    31     In\n",
       "97603  28-07-2018 07:06    31     In\n",
       "97604  28-07-2018 07:06    31     In\n",
       "97605  28-07-2018 07:06    31     In\n",
       "\n",
       "[97605 rows x 3 columns]"
      ]
     },
     "execution_count": 5,
     "metadata": {},
     "output_type": "execute_result"
    }
   ],
   "source": [
    "cols_drop = ['id', 'room_id/id']\n",
    "df = df.drop(cols_drop, axis=1)\n",
    "df"
   ]
  },
  {
   "cell_type": "markdown",
   "id": "5ce8d692",
   "metadata": {},
   "source": [
    "### Check for null data"
   ]
  },
  {
   "cell_type": "code",
   "execution_count": 6,
   "id": "cae129ec",
   "metadata": {},
   "outputs": [
    {
     "data": {
      "text/plain": [
       "noted_date    0\n",
       "temp          0\n",
       "out/in        0\n",
       "dtype: int64"
      ]
     },
     "execution_count": 6,
     "metadata": {},
     "output_type": "execute_result"
    }
   ],
   "source": [
    "df.isnull().sum()"
   ]
  },
  {
   "cell_type": "markdown",
   "id": "1c98189f",
   "metadata": {},
   "source": [
    "### Check for outlier data "
   ]
  },
  {
   "cell_type": "code",
   "execution_count": 7,
   "id": "a9da84b7",
   "metadata": {},
   "outputs": [
    {
     "name": "stdout",
     "output_type": "stream",
     "text": [
      "30.0 40.0\n"
     ]
    }
   ],
   "source": [
    "q1,q3 = np.percentile(df['temp'], [25,75])\n",
    "\n",
    "print(q1,q3)"
   ]
  },
  {
   "cell_type": "code",
   "execution_count": 8,
   "id": "b2754028",
   "metadata": {},
   "outputs": [
    {
     "name": "stdout",
     "output_type": "stream",
     "text": [
      "IQR : 10.0\n"
     ]
    }
   ],
   "source": [
    "iqr = q3-q1\n",
    "\n",
    "print('IQR : {}'.format(iqr))"
   ]
  },
  {
   "cell_type": "code",
   "execution_count": 9,
   "id": "f37f0a8f",
   "metadata": {},
   "outputs": [
    {
     "name": "stdout",
     "output_type": "stream",
     "text": [
      "Lower : 15.00 \n",
      "Upper : 55.00\n"
     ]
    }
   ],
   "source": [
    "upper = q3 + 1.5*iqr\n",
    "lower = q1 - 1.5*iqr\n",
    "\n",
    "print('Lower : {:.2f} \\nUpper : {:.2f}'.format(lower,upper))"
   ]
  },
  {
   "cell_type": "code",
   "execution_count": 10,
   "id": "8628ae30",
   "metadata": {
    "scrolled": true
   },
   "outputs": [
    {
     "data": {
      "image/png": "[encoded data removed]",
      "text/plain": [
       "<Figure size 864x288 with 1 Axes>"
      ]
     },
     "metadata": {
      "needs_background": "light"
     },
     "output_type": "display_data"
    }
   ],
   "source": [
    "plt.rcParams[\"figure.figsize\"] = (12,4)\n",
    "plt.axvline(x=lower, c='r', linestyle='--')\n",
    "plt.axvline(x=upper, c='r', linestyle='--')\n",
    "sns.boxplot(x=df.temp, width=0.4)\n",
    "plt.show()"
   ]
  },
  {
   "cell_type": "markdown",
   "id": "e969f6ad",
   "metadata": {},
   "source": [
    "### Change object to datetime"
   ]
  },
  {
   "cell_type": "code",
   "execution_count": 11,
   "id": "9ee5ae69",
   "metadata": {},
   "outputs": [],
   "source": [
    "df['noted_date'] = pd.to_datetime(df['noted_date'], format = '%d-%m-%Y %H:%M')"
   ]
  },
  {
   "cell_type": "code",
   "execution_count": 12,
   "id": "91e09d00",
   "metadata": {},
   "outputs": [
    {
     "data": {
      "text/plain": [
       "noted_date    datetime64[ns]\n",
       "temp                   int64\n",
       "out/in                object\n",
       "dtype: object"
      ]
     },
     "execution_count": 12,
     "metadata": {},
     "output_type": "execute_result"
    }
   ],
   "source": [
    "df.dtypes"
   ]
  },
  {
   "cell_type": "markdown",
   "id": "a9259cea",
   "metadata": {},
   "source": [
    "### Make time and date easier to read and understand"
   ]
  },
  {
   "cell_type": "code",
   "execution_count": 13,
   "id": "25f5ba31",
   "metadata": {},
   "outputs": [
    {
     "data": {
      "text/html": [
       "<div>\n",
       "<style scoped>\n",
       "    .dataframe tbody tr th:only-of-type {\n",
       "        vertical-align: middle;\n",
       "    }\n",
       "\n",
       "    .dataframe tbody tr th {\n",
       "        vertical-align: top;\n",
       "    }\n",
       "\n",
       "    .dataframe thead th {\n",
       "        text-align: right;\n",
       "    }\n",
       "</style>\n",
       "<table border=\"1\" class=\"dataframe\">\n",
       "  <thead>\n",
       "    <tr style=\"text-align: right;\">\n",
       "      <th></th>\n",
       "      <th>noted_date</th>\n",
       "      <th>temp</th>\n",
       "      <th>out/in</th>\n",
       "      <th>time</th>\n",
       "      <th>month</th>\n",
       "      <th>day</th>\n",
       "      <th>date</th>\n",
       "    </tr>\n",
       "  </thead>\n",
       "  <tbody>\n",
       "    <tr>\n",
       "      <th>0</th>\n",
       "      <td>2018-12-08 09:30:00</td>\n",
       "      <td>29</td>\n",
       "      <td>In</td>\n",
       "      <td>09:30</td>\n",
       "      <td>12</td>\n",
       "      <td>Saturday</td>\n",
       "      <td>08-12-2018</td>\n",
       "    </tr>\n",
       "    <tr>\n",
       "      <th>1</th>\n",
       "      <td>2018-12-08 09:30:00</td>\n",
       "      <td>29</td>\n",
       "      <td>In</td>\n",
       "      <td>09:30</td>\n",
       "      <td>12</td>\n",
       "      <td>Saturday</td>\n",
       "      <td>08-12-2018</td>\n",
       "    </tr>\n",
       "    <tr>\n",
       "      <th>2</th>\n",
       "      <td>2018-12-08 09:29:00</td>\n",
       "      <td>41</td>\n",
       "      <td>Out</td>\n",
       "      <td>09:29</td>\n",
       "      <td>12</td>\n",
       "      <td>Saturday</td>\n",
       "      <td>08-12-2018</td>\n",
       "    </tr>\n",
       "    <tr>\n",
       "      <th>3</th>\n",
       "      <td>2018-12-08 09:29:00</td>\n",
       "      <td>41</td>\n",
       "      <td>Out</td>\n",
       "      <td>09:29</td>\n",
       "      <td>12</td>\n",
       "      <td>Saturday</td>\n",
       "      <td>08-12-2018</td>\n",
       "    </tr>\n",
       "    <tr>\n",
       "      <th>4</th>\n",
       "      <td>2018-12-08 09:29:00</td>\n",
       "      <td>31</td>\n",
       "      <td>In</td>\n",
       "      <td>09:29</td>\n",
       "      <td>12</td>\n",
       "      <td>Saturday</td>\n",
       "      <td>08-12-2018</td>\n",
       "    </tr>\n",
       "    <tr>\n",
       "      <th>...</th>\n",
       "      <td>...</td>\n",
       "      <td>...</td>\n",
       "      <td>...</td>\n",
       "      <td>...</td>\n",
       "      <td>...</td>\n",
       "      <td>...</td>\n",
       "      <td>...</td>\n",
       "    </tr>\n",
       "    <tr>\n",
       "      <th>97601</th>\n",
       "      <td>2018-07-28 07:07:00</td>\n",
       "      <td>31</td>\n",
       "      <td>In</td>\n",
       "      <td>07:07</td>\n",
       "      <td>7</td>\n",
       "      <td>Saturday</td>\n",
       "      <td>28-07-2018</td>\n",
       "    </tr>\n",
       "    <tr>\n",
       "      <th>97602</th>\n",
       "      <td>2018-07-28 07:07:00</td>\n",
       "      <td>31</td>\n",
       "      <td>In</td>\n",
       "      <td>07:07</td>\n",
       "      <td>7</td>\n",
       "      <td>Saturday</td>\n",
       "      <td>28-07-2018</td>\n",
       "    </tr>\n",
       "    <tr>\n",
       "      <th>97603</th>\n",
       "      <td>2018-07-28 07:06:00</td>\n",
       "      <td>31</td>\n",
       "      <td>In</td>\n",
       "      <td>07:06</td>\n",
       "      <td>7</td>\n",
       "      <td>Saturday</td>\n",
       "      <td>28-07-2018</td>\n",
       "    </tr>\n",
       "    <tr>\n",
       "      <th>97604</th>\n",
       "      <td>2018-07-28 07:06:00</td>\n",
       "      <td>31</td>\n",
       "      <td>In</td>\n",
       "      <td>07:06</td>\n",
       "      <td>7</td>\n",
       "      <td>Saturday</td>\n",
       "      <td>28-07-2018</td>\n",
       "    </tr>\n",
       "    <tr>\n",
       "      <th>97605</th>\n",
       "      <td>2018-07-28 07:06:00</td>\n",
       "      <td>31</td>\n",
       "      <td>In</td>\n",
       "      <td>07:06</td>\n",
       "      <td>7</td>\n",
       "      <td>Saturday</td>\n",
       "      <td>28-07-2018</td>\n",
       "    </tr>\n",
       "  </tbody>\n",
       "</table>\n",
       "<p>97605 rows × 7 columns</p>\n",
       "</div>"
      ],
      "text/plain": [
       "               noted_date  temp out/in   time  month       day        date\n",
       "0     2018-12-08 09:30:00    29     In  09:30     12  Saturday  08-12-2018\n",
       "1     2018-12-08 09:30:00    29     In  09:30     12  Saturday  08-12-2018\n",
       "2     2018-12-08 09:29:00    41    Out  09:29     12  Saturday  08-12-2018\n",
       "3     2018-12-08 09:29:00    41    Out  09:29     12  Saturday  08-12-2018\n",
       "4     2018-12-08 09:29:00    31     In  09:29     12  Saturday  08-12-2018\n",
       "...                   ...   ...    ...    ...    ...       ...         ...\n",
       "97601 2018-07-28 07:07:00    31     In  07:07      7  Saturday  28-07-2018\n",
       "97602 2018-07-28 07:07:00    31     In  07:07      7  Saturday  28-07-2018\n",
       "97603 2018-07-28 07:06:00    31     In  07:06      7  Saturday  28-07-2018\n",
       "97604 2018-07-28 07:06:00    31     In  07:06      7  Saturday  28-07-2018\n",
       "97605 2018-07-28 07:06:00    31     In  07:06      7  Saturday  28-07-2018\n",
       "\n",
       "[97605 rows x 7 columns]"
      ]
     },
     "execution_count": 13,
     "metadata": {},
     "output_type": "execute_result"
    }
   ],
   "source": [
    "df['time'] = df.noted_date.dt.strftime('%H:%M')\n",
    "df['month'] = df.noted_date.dt.month\n",
    "df['day'] = df.noted_date.dt.day_name()\n",
    "df['date'] = df.noted_date.dt.strftime('%d-%m-%Y')\n",
    "df"
   ]
  },
  {
   "cell_type": "code",
   "execution_count": 14,
   "id": "0fb568c4",
   "metadata": {},
   "outputs": [],
   "source": [
    "def seasons(x):\n",
    "    if x in [12, 1, 2]:\n",
    "        season = 'Winter'\n",
    "    elif x in [3, 4, 5]:\n",
    "        season = 'Summer'\n",
    "    elif x in [6, 7, 8, 9]:\n",
    "        season = 'Monsoon'\n",
    "    elif x in [10, 11]:\n",
    "        season = 'Autumn'\n",
    "    return season"
   ]
  },
  {
   "cell_type": "code",
   "execution_count": 15,
   "id": "99d560c3",
   "metadata": {
    "scrolled": true
   },
   "outputs": [],
   "source": [
    "df['season'] = df['month'].apply(seasons)"
   ]
  },
  {
   "cell_type": "code",
   "execution_count": 16,
   "id": "55f8347e",
   "metadata": {},
   "outputs": [
    {
     "data": {
      "text/html": [
       "<div>\n",
       "<style scoped>\n",
       "    .dataframe tbody tr th:only-of-type {\n",
       "        vertical-align: middle;\n",
       "    }\n",
       "\n",
       "    .dataframe tbody tr th {\n",
       "        vertical-align: top;\n",
       "    }\n",
       "\n",
       "    .dataframe thead th {\n",
       "        text-align: right;\n",
       "    }\n",
       "</style>\n",
       "<table border=\"1\" class=\"dataframe\">\n",
       "  <thead>\n",
       "    <tr style=\"text-align: right;\">\n",
       "      <th></th>\n",
       "      <th>noted_date</th>\n",
       "      <th>temp</th>\n",
       "      <th>out/in</th>\n",
       "      <th>time</th>\n",
       "      <th>month</th>\n",
       "      <th>day</th>\n",
       "      <th>date</th>\n",
       "      <th>season</th>\n",
       "      <th>Day/Night</th>\n",
       "    </tr>\n",
       "  </thead>\n",
       "  <tbody>\n",
       "    <tr>\n",
       "      <th>214</th>\n",
       "      <td>2018-12-08 05:59:00</td>\n",
       "      <td>39</td>\n",
       "      <td>Out</td>\n",
       "      <td>05:59</td>\n",
       "      <td>12</td>\n",
       "      <td>Saturday</td>\n",
       "      <td>08-12-2018</td>\n",
       "      <td>Winter</td>\n",
       "      <td>Night</td>\n",
       "    </tr>\n",
       "    <tr>\n",
       "      <th>215</th>\n",
       "      <td>2018-12-08 05:59:00</td>\n",
       "      <td>29</td>\n",
       "      <td>In</td>\n",
       "      <td>05:59</td>\n",
       "      <td>12</td>\n",
       "      <td>Saturday</td>\n",
       "      <td>08-12-2018</td>\n",
       "      <td>Winter</td>\n",
       "      <td>Night</td>\n",
       "    </tr>\n",
       "    <tr>\n",
       "      <th>216</th>\n",
       "      <td>2018-12-08 05:59:00</td>\n",
       "      <td>39</td>\n",
       "      <td>Out</td>\n",
       "      <td>05:59</td>\n",
       "      <td>12</td>\n",
       "      <td>Saturday</td>\n",
       "      <td>08-12-2018</td>\n",
       "      <td>Winter</td>\n",
       "      <td>Night</td>\n",
       "    </tr>\n",
       "    <tr>\n",
       "      <th>217</th>\n",
       "      <td>2018-12-08 05:59:00</td>\n",
       "      <td>29</td>\n",
       "      <td>In</td>\n",
       "      <td>05:59</td>\n",
       "      <td>12</td>\n",
       "      <td>Saturday</td>\n",
       "      <td>08-12-2018</td>\n",
       "      <td>Winter</td>\n",
       "      <td>Night</td>\n",
       "    </tr>\n",
       "    <tr>\n",
       "      <th>218</th>\n",
       "      <td>2018-12-08 05:57:00</td>\n",
       "      <td>38</td>\n",
       "      <td>Out</td>\n",
       "      <td>05:57</td>\n",
       "      <td>12</td>\n",
       "      <td>Saturday</td>\n",
       "      <td>08-12-2018</td>\n",
       "      <td>Winter</td>\n",
       "      <td>Night</td>\n",
       "    </tr>\n",
       "    <tr>\n",
       "      <th>...</th>\n",
       "      <td>...</td>\n",
       "      <td>...</td>\n",
       "      <td>...</td>\n",
       "      <td>...</td>\n",
       "      <td>...</td>\n",
       "      <td>...</td>\n",
       "      <td>...</td>\n",
       "      <td>...</td>\n",
       "      <td>...</td>\n",
       "    </tr>\n",
       "    <tr>\n",
       "      <th>97513</th>\n",
       "      <td>2018-07-29 04:19:00</td>\n",
       "      <td>31</td>\n",
       "      <td>Out</td>\n",
       "      <td>04:19</td>\n",
       "      <td>7</td>\n",
       "      <td>Sunday</td>\n",
       "      <td>29-07-2018</td>\n",
       "      <td>Monsoon</td>\n",
       "      <td>Night</td>\n",
       "    </tr>\n",
       "    <tr>\n",
       "      <th>97514</th>\n",
       "      <td>2018-07-29 04:19:00</td>\n",
       "      <td>31</td>\n",
       "      <td>Out</td>\n",
       "      <td>04:19</td>\n",
       "      <td>7</td>\n",
       "      <td>Sunday</td>\n",
       "      <td>29-07-2018</td>\n",
       "      <td>Monsoon</td>\n",
       "      <td>Night</td>\n",
       "    </tr>\n",
       "    <tr>\n",
       "      <th>97515</th>\n",
       "      <td>2018-07-29 04:19:00</td>\n",
       "      <td>31</td>\n",
       "      <td>Out</td>\n",
       "      <td>04:19</td>\n",
       "      <td>7</td>\n",
       "      <td>Sunday</td>\n",
       "      <td>29-07-2018</td>\n",
       "      <td>Monsoon</td>\n",
       "      <td>Night</td>\n",
       "    </tr>\n",
       "    <tr>\n",
       "      <th>97516</th>\n",
       "      <td>2018-07-29 04:19:00</td>\n",
       "      <td>31</td>\n",
       "      <td>Out</td>\n",
       "      <td>04:19</td>\n",
       "      <td>7</td>\n",
       "      <td>Sunday</td>\n",
       "      <td>29-07-2018</td>\n",
       "      <td>Monsoon</td>\n",
       "      <td>Night</td>\n",
       "    </tr>\n",
       "    <tr>\n",
       "      <th>97517</th>\n",
       "      <td>2018-07-29 04:19:00</td>\n",
       "      <td>31</td>\n",
       "      <td>Out</td>\n",
       "      <td>04:19</td>\n",
       "      <td>7</td>\n",
       "      <td>Sunday</td>\n",
       "      <td>29-07-2018</td>\n",
       "      <td>Monsoon</td>\n",
       "      <td>Night</td>\n",
       "    </tr>\n",
       "  </tbody>\n",
       "</table>\n",
       "<p>44493 rows × 9 columns</p>\n",
       "</div>"
      ],
      "text/plain": [
       "               noted_date  temp out/in   time  month       day        date  \\\n",
       "214   2018-12-08 05:59:00    39    Out  05:59     12  Saturday  08-12-2018   \n",
       "215   2018-12-08 05:59:00    29     In  05:59     12  Saturday  08-12-2018   \n",
       "216   2018-12-08 05:59:00    39    Out  05:59     12  Saturday  08-12-2018   \n",
       "217   2018-12-08 05:59:00    29     In  05:59     12  Saturday  08-12-2018   \n",
       "218   2018-12-08 05:57:00    38    Out  05:57     12  Saturday  08-12-2018   \n",
       "...                   ...   ...    ...    ...    ...       ...         ...   \n",
       "97513 2018-07-29 04:19:00    31    Out  04:19      7    Sunday  29-07-2018   \n",
       "97514 2018-07-29 04:19:00    31    Out  04:19      7    Sunday  29-07-2018   \n",
       "97515 2018-07-29 04:19:00    31    Out  04:19      7    Sunday  29-07-2018   \n",
       "97516 2018-07-29 04:19:00    31    Out  04:19      7    Sunday  29-07-2018   \n",
       "97517 2018-07-29 04:19:00    31    Out  04:19      7    Sunday  29-07-2018   \n",
       "\n",
       "        season Day/Night  \n",
       "214     Winter     Night  \n",
       "215     Winter     Night  \n",
       "216     Winter     Night  \n",
       "217     Winter     Night  \n",
       "218     Winter     Night  \n",
       "...        ...       ...  \n",
       "97513  Monsoon     Night  \n",
       "97514  Monsoon     Night  \n",
       "97515  Monsoon     Night  \n",
       "97516  Monsoon     Night  \n",
       "97517  Monsoon     Night  \n",
       "\n",
       "[44493 rows x 9 columns]"
      ]
     },
     "execution_count": 16,
     "metadata": {},
     "output_type": "execute_result"
    }
   ],
   "source": [
    "df['Day/Night'] = df['time'].apply(lambda x: 'Day' if (x>='06:00') & (x<='18:00') else 'Night')\n",
    "df[df['Day/Night'] == 'Night']"
   ]
  },
  {
   "cell_type": "code",
   "execution_count": 17,
   "id": "41bd34a3",
   "metadata": {},
   "outputs": [],
   "source": [
    "df.sort_values('noted_date', inplace = True)"
   ]
  },
  {
   "cell_type": "code",
   "execution_count": 18,
   "id": "6944ebfd",
   "metadata": {},
   "outputs": [],
   "source": [
    "df.set_index('date', inplace=True)"
   ]
  },
  {
   "cell_type": "code",
   "execution_count": 19,
   "id": "06901253",
   "metadata": {},
   "outputs": [
    {
     "data": {
      "text/html": [
       "<div>\n",
       "<style scoped>\n",
       "    .dataframe tbody tr th:only-of-type {\n",
       "        vertical-align: middle;\n",
       "    }\n",
       "\n",
       "    .dataframe tbody tr th {\n",
       "        vertical-align: top;\n",
       "    }\n",
       "\n",
       "    .dataframe thead th {\n",
       "        text-align: right;\n",
       "    }\n",
       "</style>\n",
       "<table border=\"1\" class=\"dataframe\">\n",
       "  <thead>\n",
       "    <tr style=\"text-align: right;\">\n",
       "      <th></th>\n",
       "      <th>temp</th>\n",
       "      <th>out/in</th>\n",
       "      <th>time</th>\n",
       "      <th>month</th>\n",
       "      <th>day</th>\n",
       "      <th>season</th>\n",
       "      <th>Day/Night</th>\n",
       "    </tr>\n",
       "    <tr>\n",
       "      <th>date</th>\n",
       "      <th></th>\n",
       "      <th></th>\n",
       "      <th></th>\n",
       "      <th></th>\n",
       "      <th></th>\n",
       "      <th></th>\n",
       "      <th></th>\n",
       "    </tr>\n",
       "  </thead>\n",
       "  <tbody>\n",
       "    <tr>\n",
       "      <th>28-07-2018</th>\n",
       "      <td>31</td>\n",
       "      <td>In</td>\n",
       "      <td>07:06</td>\n",
       "      <td>7</td>\n",
       "      <td>Saturday</td>\n",
       "      <td>Monsoon</td>\n",
       "      <td>Day</td>\n",
       "    </tr>\n",
       "    <tr>\n",
       "      <th>28-07-2018</th>\n",
       "      <td>31</td>\n",
       "      <td>In</td>\n",
       "      <td>07:06</td>\n",
       "      <td>7</td>\n",
       "      <td>Saturday</td>\n",
       "      <td>Monsoon</td>\n",
       "      <td>Day</td>\n",
       "    </tr>\n",
       "    <tr>\n",
       "      <th>28-07-2018</th>\n",
       "      <td>31</td>\n",
       "      <td>In</td>\n",
       "      <td>07:06</td>\n",
       "      <td>7</td>\n",
       "      <td>Saturday</td>\n",
       "      <td>Monsoon</td>\n",
       "      <td>Day</td>\n",
       "    </tr>\n",
       "    <tr>\n",
       "      <th>28-07-2018</th>\n",
       "      <td>31</td>\n",
       "      <td>In</td>\n",
       "      <td>07:07</td>\n",
       "      <td>7</td>\n",
       "      <td>Saturday</td>\n",
       "      <td>Monsoon</td>\n",
       "      <td>Day</td>\n",
       "    </tr>\n",
       "    <tr>\n",
       "      <th>28-07-2018</th>\n",
       "      <td>31</td>\n",
       "      <td>In</td>\n",
       "      <td>07:07</td>\n",
       "      <td>7</td>\n",
       "      <td>Saturday</td>\n",
       "      <td>Monsoon</td>\n",
       "      <td>Day</td>\n",
       "    </tr>\n",
       "    <tr>\n",
       "      <th>...</th>\n",
       "      <td>...</td>\n",
       "      <td>...</td>\n",
       "      <td>...</td>\n",
       "      <td>...</td>\n",
       "      <td>...</td>\n",
       "      <td>...</td>\n",
       "      <td>...</td>\n",
       "    </tr>\n",
       "    <tr>\n",
       "      <th>08-12-2018</th>\n",
       "      <td>31</td>\n",
       "      <td>In</td>\n",
       "      <td>09:29</td>\n",
       "      <td>12</td>\n",
       "      <td>Saturday</td>\n",
       "      <td>Winter</td>\n",
       "      <td>Day</td>\n",
       "    </tr>\n",
       "    <tr>\n",
       "      <th>08-12-2018</th>\n",
       "      <td>41</td>\n",
       "      <td>Out</td>\n",
       "      <td>09:29</td>\n",
       "      <td>12</td>\n",
       "      <td>Saturday</td>\n",
       "      <td>Winter</td>\n",
       "      <td>Day</td>\n",
       "    </tr>\n",
       "    <tr>\n",
       "      <th>08-12-2018</th>\n",
       "      <td>41</td>\n",
       "      <td>Out</td>\n",
       "      <td>09:29</td>\n",
       "      <td>12</td>\n",
       "      <td>Saturday</td>\n",
       "      <td>Winter</td>\n",
       "      <td>Day</td>\n",
       "    </tr>\n",
       "    <tr>\n",
       "      <th>08-12-2018</th>\n",
       "      <td>29</td>\n",
       "      <td>In</td>\n",
       "      <td>09:30</td>\n",
       "      <td>12</td>\n",
       "      <td>Saturday</td>\n",
       "      <td>Winter</td>\n",
       "      <td>Day</td>\n",
       "    </tr>\n",
       "    <tr>\n",
       "      <th>08-12-2018</th>\n",
       "      <td>29</td>\n",
       "      <td>In</td>\n",
       "      <td>09:30</td>\n",
       "      <td>12</td>\n",
       "      <td>Saturday</td>\n",
       "      <td>Winter</td>\n",
       "      <td>Day</td>\n",
       "    </tr>\n",
       "  </tbody>\n",
       "</table>\n",
       "<p>97605 rows × 7 columns</p>\n",
       "</div>"
      ],
      "text/plain": [
       "            temp out/in   time  month       day   season Day/Night\n",
       "date                                                              \n",
       "28-07-2018    31     In  07:06      7  Saturday  Monsoon       Day\n",
       "28-07-2018    31     In  07:06      7  Saturday  Monsoon       Day\n",
       "28-07-2018    31     In  07:06      7  Saturday  Monsoon       Day\n",
       "28-07-2018    31     In  07:07      7  Saturday  Monsoon       Day\n",
       "28-07-2018    31     In  07:07      7  Saturday  Monsoon       Day\n",
       "...          ...    ...    ...    ...       ...      ...       ...\n",
       "08-12-2018    31     In  09:29     12  Saturday   Winter       Day\n",
       "08-12-2018    41    Out  09:29     12  Saturday   Winter       Day\n",
       "08-12-2018    41    Out  09:29     12  Saturday   Winter       Day\n",
       "08-12-2018    29     In  09:30     12  Saturday   Winter       Day\n",
       "08-12-2018    29     In  09:30     12  Saturday   Winter       Day\n",
       "\n",
       "[97605 rows x 7 columns]"
      ]
     },
     "execution_count": 19,
     "metadata": {},
     "output_type": "execute_result"
    }
   ],
   "source": [
    "df.drop('noted_date', axis=1, inplace=True)\n",
    "df"
   ]
  },
  {
   "cell_type": "markdown",
   "id": "b9ffd315",
   "metadata": {},
   "source": [
    "### Export for EDA process and Visualization"
   ]
  },
  {
   "cell_type": "code",
   "execution_count": 20,
   "id": "b701c8be",
   "metadata": {},
   "outputs": [],
   "source": [
    "df.to_csv('IOT-temp_Done.csv')"
   ]
  },
  {
   "cell_type": "markdown",
   "id": "b53d38d4",
   "metadata": {},
   "source": [
    "### Little explore through our data"
   ]
  },
  {
   "cell_type": "code",
   "execution_count": 21,
   "id": "ea46cf77",
   "metadata": {},
   "outputs": [
    {
     "data": {
      "text/plain": [
       "<AxesSubplot:title={'center':'Average Temperature Between Day And Night In Differnt Seasons'}, ylabel='season,Day/Night'>"
      ]
     },
     "execution_count": 21,
     "metadata": {},
     "output_type": "execute_result"
    },
    {
     "data": {
      "image/png": "[encoded data removed]",
      "text/plain": [
       "<Figure size 864x288 with 1 Axes>"
      ]
     },
     "metadata": {
      "needs_background": "light"
     },
     "output_type": "display_data"
    }
   ],
   "source": [
    "plt.title('Average Temperature Between Day And Night In Differnt Seasons')\n",
    "df.groupby(['season','Day/Night'])['temp'].mean().plot(kind='barh', color=['orange','orange','g','g','brown','brown'])"
   ]
  },
  {
   "cell_type": "code",
   "execution_count": 22,
   "id": "89c527c7",
   "metadata": {},
   "outputs": [
    {
     "data": {
      "image/png": "[encoded data removed]",
      "text/plain": [
       "<Figure size 1080x720 with 1 Axes>"
      ]
     },
     "metadata": {
      "needs_background": "light"
     },
     "output_type": "display_data"
    }
   ],
   "source": [
    "plt.rcParams[\"figure.figsize\"] = (15,10)\n",
    "plt.title('Average Temperature Between Day And Night')\n",
    "plt.barh( df['Day/Night'].unique(), df.groupby('Day/Night')['temp'].mean(), color = ['gold','lightblue'])\n",
    "plt.show()"
   ]
  },
  {
   "cell_type": "code",
   "execution_count": 23,
   "id": "9de201e7",
   "metadata": {},
   "outputs": [
    {
     "data": {
      "image/png": "[encoded data removed]",
      "text/plain": [
       "<Figure size 432x432 with 1 Axes>"
      ]
     },
     "metadata": {},
     "output_type": "display_data"
    }
   ],
   "source": [
    "plt.rcParams[\"figure.figsize\"] = (6,6)\n",
    "plt.title('Ratio Of Inside building And Outside Building Measurement')\n",
    "plt.pie(df['out/in'].value_counts(), labels=['Out','In'], autopct='%.1f%%', colors=['pink','lightblue'])\n",
    "plt.show()"
   ]
  },
  {
   "cell_type": "code",
   "execution_count": 25,
   "id": "3a9e33b2",
   "metadata": {
    "scrolled": true
   },
   "outputs": [
    {
     "data": {
      "image/png": "[encoded data removed]",
      "text/plain": [
       "<Figure size 1080x720 with 3 Axes>"
      ]
     },
     "metadata": {
      "needs_background": "light"
     },
     "output_type": "display_data"
    }
   ],
   "source": [
    "fig, axs = plt.subplots(3, sharey=True)\n",
    "plt.rcParams[\"figure.figsize\"] = (15,10)\n",
    "fig.suptitle('Weekday Average Temperature In Winter, Autumn, Monsoon')\n",
    "axs[0].bar(df['day'].unique(), df[df['season'] == 'Winter'].groupby('day')['temp'].mean(), color = ['purple','red','pink','orange','blue','yellow','green'])\n",
    "axs[1].bar(df['day'].unique(), df[df['season'] == 'Autumn'].groupby('day')['temp'].mean(), color = ['purple','red','pink','orange','blue','yellow','green'])\n",
    "axs[2].bar(df['day'].unique(), df[df['season'] == 'Monsoon'].groupby('day')['temp'].mean(), color = ['purple','red','pink','orange','blue','yellow','green'])\n",
    "plt.show()"
   ]
  },
  {
   "cell_type": "code",
   "execution_count": 26,
   "id": "6d3ba346",
   "metadata": {},
   "outputs": [
    {
     "data": {
      "text/plain": [
       "Out    77260\n",
       "In     20345\n",
       "Name: out/in, dtype: int64"
      ]
     },
     "execution_count": 26,
     "metadata": {},
     "output_type": "execute_result"
    }
   ],
   "source": [
    "df['out/in'].value_counts()"
   ]
  },
  {
   "cell_type": "code",
   "execution_count": 27,
   "id": "123389b1",
   "metadata": {
    "scrolled": true
   },
   "outputs": [
    {
     "name": "stderr",
     "output_type": "stream",
     "text": [
      "C:\\Users\\THUNYA~1\\AppData\\Local\\Temp/ipykernel_5240/2911624921.py:3: UserWarning: Parsing dates in DD/MM/YYYY format when dayfirst=False (the default) was specified. This may lead to inconsistently parsed dates! Specify a format to ensure consistent parsing.\n",
      "  df[df['out/in']=='Out']['temp'].loc['28-07-2018':'08-12-2018'].plot(c='orange')\n"
     ]
    },
    {
     "data": {
      "image/png": "[encoded data removed]",
      "text/plain": [
       "<Figure size 1080x432 with 1 Axes>"
      ]
     },
     "metadata": {
      "needs_background": "light"
     },
     "output_type": "display_data"
    }
   ],
   "source": [
    "plt.rcParams[\"figure.figsize\"] = (15,6)\n",
    "plt.title('All Data Points Of Temperature Outside The Building')\n",
    "df[df['out/in']=='Out']['temp'].loc['28-07-2018':'08-12-2018'].plot(c='orange')\n",
    "plt.ylabel('Temp')\n",
    "plt.xlabel('Date')\n",
    "plt.show()"
   ]
  },
  {
   "cell_type": "code",
   "execution_count": 28,
   "id": "6b87ab8b",
   "metadata": {
    "scrolled": false
   },
   "outputs": [
    {
     "name": "stderr",
     "output_type": "stream",
     "text": [
      "C:\\Users\\THUNYA~1\\AppData\\Local\\Temp/ipykernel_5240/3454312470.py:3: UserWarning: Parsing dates in DD/MM/YYYY format when dayfirst=False (the default) was specified. This may lead to inconsistently parsed dates! Specify a format to ensure consistent parsing.\n",
      "  df[df['out/in']=='In']['temp'].loc['28-07-2018':'08-12-2018'].plot(c='purple')\n"
     ]
    },
    {
     "data": {
      "image/png": "[encoded data removed]",
      "text/plain": [
       "<Figure size 1080x432 with 1 Axes>"
      ]
     },
     "metadata": {
      "needs_background": "light"
     },
     "output_type": "display_data"
    }
   ],
   "source": [
    "plt.rcParams[\"figure.figsize\"] = (15,6)\n",
    "plt.title('All Data Points Of Temperature Inside The Building')\n",
    "df[df['out/in']=='In']['temp'].loc['28-07-2018':'08-12-2018'].plot(c='purple')\n",
    "plt.ylabel('Temp')\n",
    "plt.xlabel('Date')\n",
    "plt.show()"
   ]
  },
  {
   "cell_type": "markdown",
   "id": "29562a58",
   "metadata": {},
   "source": [
    "### Build model to forecast  future temperature using Prophet"
   ]
  },
  {
   "cell_type": "markdown",
   "id": "f187c4f0",
   "metadata": {},
   "source": [
    "#### create new dataframe"
   ]
  },
  {
   "cell_type": "code",
   "execution_count": 29,
   "id": "cc1728ee",
   "metadata": {},
   "outputs": [
    {
     "data": {
      "text/html": [
       "<div>\n",
       "<style scoped>\n",
       "    .dataframe tbody tr th:only-of-type {\n",
       "        vertical-align: middle;\n",
       "    }\n",
       "\n",
       "    .dataframe tbody tr th {\n",
       "        vertical-align: top;\n",
       "    }\n",
       "\n",
       "    .dataframe thead th {\n",
       "        text-align: right;\n",
       "    }\n",
       "</style>\n",
       "<table border=\"1\" class=\"dataframe\">\n",
       "  <thead>\n",
       "    <tr style=\"text-align: right;\">\n",
       "      <th></th>\n",
       "      <th>ds</th>\n",
       "      <th>y</th>\n",
       "    </tr>\n",
       "  </thead>\n",
       "  <tbody>\n",
       "    <tr>\n",
       "      <th>0</th>\n",
       "      <td>2018-07-28</td>\n",
       "      <td>32</td>\n",
       "    </tr>\n",
       "    <tr>\n",
       "      <th>24</th>\n",
       "      <td>2018-07-28</td>\n",
       "      <td>32</td>\n",
       "    </tr>\n",
       "    <tr>\n",
       "      <th>25</th>\n",
       "      <td>2018-07-28</td>\n",
       "      <td>32</td>\n",
       "    </tr>\n",
       "    <tr>\n",
       "      <th>26</th>\n",
       "      <td>2018-07-28</td>\n",
       "      <td>32</td>\n",
       "    </tr>\n",
       "    <tr>\n",
       "      <th>27</th>\n",
       "      <td>2018-07-28</td>\n",
       "      <td>31</td>\n",
       "    </tr>\n",
       "    <tr>\n",
       "      <th>...</th>\n",
       "      <td>...</td>\n",
       "      <td>...</td>\n",
       "    </tr>\n",
       "    <tr>\n",
       "      <th>77122</th>\n",
       "      <td>2018-12-08</td>\n",
       "      <td>35</td>\n",
       "    </tr>\n",
       "    <tr>\n",
       "      <th>77123</th>\n",
       "      <td>2018-12-08</td>\n",
       "      <td>35</td>\n",
       "    </tr>\n",
       "    <tr>\n",
       "      <th>77124</th>\n",
       "      <td>2018-12-08</td>\n",
       "      <td>35</td>\n",
       "    </tr>\n",
       "    <tr>\n",
       "      <th>77126</th>\n",
       "      <td>2018-12-08</td>\n",
       "      <td>35</td>\n",
       "    </tr>\n",
       "    <tr>\n",
       "      <th>77259</th>\n",
       "      <td>2018-12-08</td>\n",
       "      <td>41</td>\n",
       "    </tr>\n",
       "  </tbody>\n",
       "</table>\n",
       "<p>77260 rows × 2 columns</p>\n",
       "</div>"
      ],
      "text/plain": [
       "              ds   y\n",
       "0     2018-07-28  32\n",
       "24    2018-07-28  32\n",
       "25    2018-07-28  32\n",
       "26    2018-07-28  32\n",
       "27    2018-07-28  31\n",
       "...          ...  ..\n",
       "77122 2018-12-08  35\n",
       "77123 2018-12-08  35\n",
       "77124 2018-12-08  35\n",
       "77126 2018-12-08  35\n",
       "77259 2018-12-08  41\n",
       "\n",
       "[77260 rows x 2 columns]"
      ]
     },
     "execution_count": 29,
     "metadata": {},
     "output_type": "execute_result"
    }
   ],
   "source": [
    "dfout = df[df['out/in']=='Out']['temp'].reset_index()\n",
    "dfout['date']= pd.to_datetime(dfout['date'], format = '%d-%m-%Y')\n",
    "dfout.rename(columns = {'date':'ds', 'temp':'y'}, inplace=True)\n",
    "\n",
    "dfout.reset_index(drop=True, inplace = True)\n",
    "dfout.sort_values('ds', inplace = True)\n",
    "dfout"
   ]
  },
  {
   "cell_type": "markdown",
   "id": "ca5fce02",
   "metadata": {},
   "source": [
    "#### Train/Test split"
   ]
  },
  {
   "cell_type": "code",
   "execution_count": 30,
   "id": "d108aee2",
   "metadata": {},
   "outputs": [
    {
     "data": {
      "text/html": [
       "<div>\n",
       "<style scoped>\n",
       "    .dataframe tbody tr th:only-of-type {\n",
       "        vertical-align: middle;\n",
       "    }\n",
       "\n",
       "    .dataframe tbody tr th {\n",
       "        vertical-align: top;\n",
       "    }\n",
       "\n",
       "    .dataframe thead th {\n",
       "        text-align: right;\n",
       "    }\n",
       "</style>\n",
       "<table border=\"1\" class=\"dataframe\">\n",
       "  <thead>\n",
       "    <tr style=\"text-align: right;\">\n",
       "      <th></th>\n",
       "      <th>ds</th>\n",
       "      <th>y</th>\n",
       "    </tr>\n",
       "  </thead>\n",
       "  <tbody>\n",
       "    <tr>\n",
       "      <th>0</th>\n",
       "      <td>2018-07-28</td>\n",
       "      <td>31.790698</td>\n",
       "    </tr>\n",
       "    <tr>\n",
       "      <th>1</th>\n",
       "      <td>2018-07-29</td>\n",
       "      <td>31.235294</td>\n",
       "    </tr>\n",
       "    <tr>\n",
       "      <th>2</th>\n",
       "      <td>2018-07-31</td>\n",
       "      <td>32.400000</td>\n",
       "    </tr>\n",
       "    <tr>\n",
       "      <th>3</th>\n",
       "      <td>2018-08-02</td>\n",
       "      <td>32.176471</td>\n",
       "    </tr>\n",
       "    <tr>\n",
       "      <th>4</th>\n",
       "      <td>2018-08-10</td>\n",
       "      <td>31.115254</td>\n",
       "    </tr>\n",
       "    <tr>\n",
       "      <th>...</th>\n",
       "      <td>...</td>\n",
       "      <td>...</td>\n",
       "    </tr>\n",
       "    <tr>\n",
       "      <th>63</th>\n",
       "      <td>2018-11-18</td>\n",
       "      <td>39.490000</td>\n",
       "    </tr>\n",
       "    <tr>\n",
       "      <th>64</th>\n",
       "      <td>2018-11-19</td>\n",
       "      <td>38.707395</td>\n",
       "    </tr>\n",
       "    <tr>\n",
       "      <th>65</th>\n",
       "      <td>2018-11-20</td>\n",
       "      <td>39.483051</td>\n",
       "    </tr>\n",
       "    <tr>\n",
       "      <th>66</th>\n",
       "      <td>2018-11-21</td>\n",
       "      <td>41.370370</td>\n",
       "    </tr>\n",
       "    <tr>\n",
       "      <th>67</th>\n",
       "      <td>2018-11-22</td>\n",
       "      <td>41.809798</td>\n",
       "    </tr>\n",
       "  </tbody>\n",
       "</table>\n",
       "<p>68 rows × 2 columns</p>\n",
       "</div>"
      ],
      "text/plain": [
       "           ds          y\n",
       "0  2018-07-28  31.790698\n",
       "1  2018-07-29  31.235294\n",
       "2  2018-07-31  32.400000\n",
       "3  2018-08-02  32.176471\n",
       "4  2018-08-10  31.115254\n",
       "..        ...        ...\n",
       "63 2018-11-18  39.490000\n",
       "64 2018-11-19  38.707395\n",
       "65 2018-11-20  39.483051\n",
       "66 2018-11-21  41.370370\n",
       "67 2018-11-22  41.809798\n",
       "\n",
       "[68 rows x 2 columns]"
      ]
     },
     "execution_count": 30,
     "metadata": {},
     "output_type": "execute_result"
    }
   ],
   "source": [
    "train = dfout[dfout['ds'] < pd.Timestamp('2018-11-23')]\n",
    "train = train.groupby('ds')['y'].mean()\n",
    "train = pd.DataFrame(data=train, columns=['y'])\n",
    "train.reset_index(drop=False, inplace=True)\n",
    "train"
   ]
  },
  {
   "cell_type": "code",
   "execution_count": 31,
   "id": "8ebccdf7",
   "metadata": {},
   "outputs": [
    {
     "data": {
      "text/html": [
       "<div>\n",
       "<style scoped>\n",
       "    .dataframe tbody tr th:only-of-type {\n",
       "        vertical-align: middle;\n",
       "    }\n",
       "\n",
       "    .dataframe tbody tr th {\n",
       "        vertical-align: top;\n",
       "    }\n",
       "\n",
       "    .dataframe thead th {\n",
       "        text-align: right;\n",
       "    }\n",
       "</style>\n",
       "<table border=\"1\" class=\"dataframe\">\n",
       "  <thead>\n",
       "    <tr style=\"text-align: right;\">\n",
       "      <th></th>\n",
       "      <th>ds</th>\n",
       "      <th>y</th>\n",
       "    </tr>\n",
       "  </thead>\n",
       "  <tbody>\n",
       "    <tr>\n",
       "      <th>0</th>\n",
       "      <td>2018-11-23</td>\n",
       "      <td>40.462644</td>\n",
       "    </tr>\n",
       "    <tr>\n",
       "      <th>1</th>\n",
       "      <td>2018-11-24</td>\n",
       "      <td>40.138824</td>\n",
       "    </tr>\n",
       "    <tr>\n",
       "      <th>2</th>\n",
       "      <td>2018-11-25</td>\n",
       "      <td>38.843137</td>\n",
       "    </tr>\n",
       "    <tr>\n",
       "      <th>3</th>\n",
       "      <td>2018-11-26</td>\n",
       "      <td>39.726351</td>\n",
       "    </tr>\n",
       "    <tr>\n",
       "      <th>4</th>\n",
       "      <td>2018-11-27</td>\n",
       "      <td>38.471132</td>\n",
       "    </tr>\n",
       "    <tr>\n",
       "      <th>5</th>\n",
       "      <td>2018-11-28</td>\n",
       "      <td>38.778401</td>\n",
       "    </tr>\n",
       "    <tr>\n",
       "      <th>6</th>\n",
       "      <td>2018-11-29</td>\n",
       "      <td>38.252218</td>\n",
       "    </tr>\n",
       "    <tr>\n",
       "      <th>7</th>\n",
       "      <td>2018-11-30</td>\n",
       "      <td>38.187097</td>\n",
       "    </tr>\n",
       "    <tr>\n",
       "      <th>8</th>\n",
       "      <td>2018-12-01</td>\n",
       "      <td>37.379501</td>\n",
       "    </tr>\n",
       "    <tr>\n",
       "      <th>9</th>\n",
       "      <td>2018-12-02</td>\n",
       "      <td>37.698765</td>\n",
       "    </tr>\n",
       "    <tr>\n",
       "      <th>10</th>\n",
       "      <td>2018-12-03</td>\n",
       "      <td>37.695385</td>\n",
       "    </tr>\n",
       "    <tr>\n",
       "      <th>11</th>\n",
       "      <td>2018-12-04</td>\n",
       "      <td>37.388558</td>\n",
       "    </tr>\n",
       "    <tr>\n",
       "      <th>12</th>\n",
       "      <td>2018-12-05</td>\n",
       "      <td>37.527864</td>\n",
       "    </tr>\n",
       "    <tr>\n",
       "      <th>13</th>\n",
       "      <td>2018-12-06</td>\n",
       "      <td>37.763158</td>\n",
       "    </tr>\n",
       "    <tr>\n",
       "      <th>14</th>\n",
       "      <td>2018-12-07</td>\n",
       "      <td>35.762557</td>\n",
       "    </tr>\n",
       "    <tr>\n",
       "      <th>15</th>\n",
       "      <td>2018-12-08</td>\n",
       "      <td>37.341232</td>\n",
       "    </tr>\n",
       "  </tbody>\n",
       "</table>\n",
       "</div>"
      ],
      "text/plain": [
       "           ds          y\n",
       "0  2018-11-23  40.462644\n",
       "1  2018-11-24  40.138824\n",
       "2  2018-11-25  38.843137\n",
       "3  2018-11-26  39.726351\n",
       "4  2018-11-27  38.471132\n",
       "5  2018-11-28  38.778401\n",
       "6  2018-11-29  38.252218\n",
       "7  2018-11-30  38.187097\n",
       "8  2018-12-01  37.379501\n",
       "9  2018-12-02  37.698765\n",
       "10 2018-12-03  37.695385\n",
       "11 2018-12-04  37.388558\n",
       "12 2018-12-05  37.527864\n",
       "13 2018-12-06  37.763158\n",
       "14 2018-12-07  35.762557\n",
       "15 2018-12-08  37.341232"
      ]
     },
     "execution_count": 31,
     "metadata": {},
     "output_type": "execute_result"
    }
   ],
   "source": [
    "test = dfout[dfout['ds'] >= pd.Timestamp('2018-11-23')]\n",
    "test = test.groupby('ds')['y'].mean()\n",
    "test = pd.DataFrame(data=test, columns=['y'])\n",
    "test.reset_index(drop=False, inplace=True)\n",
    "test"
   ]
  },
  {
   "cell_type": "markdown",
   "id": "c63ed08e",
   "metadata": {},
   "source": [
    "#### fit train data into model"
   ]
  },
  {
   "cell_type": "code",
   "execution_count": 32,
   "id": "ca75110d",
   "metadata": {},
   "outputs": [
    {
     "name": "stderr",
     "output_type": "stream",
     "text": [
      "Importing plotly failed. Interactive plots will not work.\n",
      "05:35:42 - cmdstanpy - INFO - Chain [1] start processing\n",
      "05:35:42 - cmdstanpy - INFO - Chain [1] done processing\n"
     ]
    },
    {
     "data": {
      "text/plain": [
       "<prophet.forecaster.Prophet at 0x170d12b7b80>"
      ]
     },
     "execution_count": 32,
     "metadata": {},
     "output_type": "execute_result"
    }
   ],
   "source": [
    "from prophet import Prophet\n",
    "m = Prophet(changepoint_prior_scale=0.5)\n",
    "m.fit(train)"
   ]
  },
  {
   "cell_type": "markdown",
   "id": "89f66a8d",
   "metadata": {},
   "source": [
    "#### Make a prediction and compare with our test data"
   ]
  },
  {
   "cell_type": "code",
   "execution_count": 33,
   "id": "d7b935a5",
   "metadata": {},
   "outputs": [],
   "source": [
    "future = m.make_future_dataframe(periods=16, freq='d', include_history = True) "
   ]
  },
  {
   "cell_type": "code",
   "execution_count": 34,
   "id": "74744319",
   "metadata": {},
   "outputs": [
    {
     "data": {
      "text/html": [
       "<div>\n",
       "<style scoped>\n",
       "    .dataframe tbody tr th:only-of-type {\n",
       "        vertical-align: middle;\n",
       "    }\n",
       "\n",
       "    .dataframe tbody tr th {\n",
       "        vertical-align: top;\n",
       "    }\n",
       "\n",
       "    .dataframe thead th {\n",
       "        text-align: right;\n",
       "    }\n",
       "</style>\n",
       "<table border=\"1\" class=\"dataframe\">\n",
       "  <thead>\n",
       "    <tr style=\"text-align: right;\">\n",
       "      <th></th>\n",
       "      <th>ds</th>\n",
       "    </tr>\n",
       "  </thead>\n",
       "  <tbody>\n",
       "    <tr>\n",
       "      <th>0</th>\n",
       "      <td>2018-07-28</td>\n",
       "    </tr>\n",
       "    <tr>\n",
       "      <th>1</th>\n",
       "      <td>2018-07-29</td>\n",
       "    </tr>\n",
       "    <tr>\n",
       "      <th>2</th>\n",
       "      <td>2018-07-31</td>\n",
       "    </tr>\n",
       "    <tr>\n",
       "      <th>3</th>\n",
       "      <td>2018-08-02</td>\n",
       "    </tr>\n",
       "    <tr>\n",
       "      <th>4</th>\n",
       "      <td>2018-08-10</td>\n",
       "    </tr>\n",
       "    <tr>\n",
       "      <th>...</th>\n",
       "      <td>...</td>\n",
       "    </tr>\n",
       "    <tr>\n",
       "      <th>79</th>\n",
       "      <td>2018-12-04</td>\n",
       "    </tr>\n",
       "    <tr>\n",
       "      <th>80</th>\n",
       "      <td>2018-12-05</td>\n",
       "    </tr>\n",
       "    <tr>\n",
       "      <th>81</th>\n",
       "      <td>2018-12-06</td>\n",
       "    </tr>\n",
       "    <tr>\n",
       "      <th>82</th>\n",
       "      <td>2018-12-07</td>\n",
       "    </tr>\n",
       "    <tr>\n",
       "      <th>83</th>\n",
       "      <td>2018-12-08</td>\n",
       "    </tr>\n",
       "  </tbody>\n",
       "</table>\n",
       "<p>84 rows × 1 columns</p>\n",
       "</div>"
      ],
      "text/plain": [
       "           ds\n",
       "0  2018-07-28\n",
       "1  2018-07-29\n",
       "2  2018-07-31\n",
       "3  2018-08-02\n",
       "4  2018-08-10\n",
       "..        ...\n",
       "79 2018-12-04\n",
       "80 2018-12-05\n",
       "81 2018-12-06\n",
       "82 2018-12-07\n",
       "83 2018-12-08\n",
       "\n",
       "[84 rows x 1 columns]"
      ]
     },
     "execution_count": 34,
     "metadata": {},
     "output_type": "execute_result"
    }
   ],
   "source": [
    "future"
   ]
  },
  {
   "cell_type": "code",
   "execution_count": 35,
   "id": "9d6ba732",
   "metadata": {},
   "outputs": [],
   "source": [
    "forecast = m.predict(future)"
   ]
  },
  {
   "cell_type": "code",
   "execution_count": 36,
   "id": "a647e1d8",
   "metadata": {},
   "outputs": [
    {
     "data": {
      "image/png": "[encoded data removed]",
      "text/plain": [
       "<Figure size 720x432 with 1 Axes>"
      ]
     },
     "metadata": {},
     "output_type": "display_data"
    }
   ],
   "source": [
    "fig = m.plot(forecast)\n",
    "plt.scatter(test['ds'] , test['y'], c='red',s=7)\n",
    "plt.plot(forecast.iloc[-len(test):]['ds'], forecast.iloc[-len(test):]['yhat'], c='blue')\n",
    "plt.legend(['Train data points','Predict','Uncertainty interval', 'Test data points','Predict'])\n",
    "plt.show()"
   ]
  },
  {
   "cell_type": "code",
   "execution_count": 37,
   "id": "6e3f4efd",
   "metadata": {
    "scrolled": true
   },
   "outputs": [
    {
     "data": {
      "text/html": [
       "<div>\n",
       "<style scoped>\n",
       "    .dataframe tbody tr th:only-of-type {\n",
       "        vertical-align: middle;\n",
       "    }\n",
       "\n",
       "    .dataframe tbody tr th {\n",
       "        vertical-align: top;\n",
       "    }\n",
       "\n",
       "    .dataframe thead th {\n",
       "        text-align: right;\n",
       "    }\n",
       "</style>\n",
       "<table border=\"1\" class=\"dataframe\">\n",
       "  <thead>\n",
       "    <tr style=\"text-align: right;\">\n",
       "      <th></th>\n",
       "      <th>ds</th>\n",
       "      <th>trend</th>\n",
       "      <th>yhat_lower</th>\n",
       "      <th>yhat_upper</th>\n",
       "      <th>trend_lower</th>\n",
       "      <th>trend_upper</th>\n",
       "      <th>additive_terms</th>\n",
       "      <th>additive_terms_lower</th>\n",
       "      <th>additive_terms_upper</th>\n",
       "      <th>weekly</th>\n",
       "      <th>weekly_lower</th>\n",
       "      <th>weekly_upper</th>\n",
       "      <th>multiplicative_terms</th>\n",
       "      <th>multiplicative_terms_lower</th>\n",
       "      <th>multiplicative_terms_upper</th>\n",
       "      <th>yhat</th>\n",
       "    </tr>\n",
       "  </thead>\n",
       "  <tbody>\n",
       "    <tr>\n",
       "      <th>0</th>\n",
       "      <td>2018-07-28</td>\n",
       "      <td>32.189246</td>\n",
       "      <td>30.069361</td>\n",
       "      <td>34.603679</td>\n",
       "      <td>32.189246</td>\n",
       "      <td>32.189246</td>\n",
       "      <td>0.277119</td>\n",
       "      <td>0.277119</td>\n",
       "      <td>0.277119</td>\n",
       "      <td>0.277119</td>\n",
       "      <td>0.277119</td>\n",
       "      <td>0.277119</td>\n",
       "      <td>0.0</td>\n",
       "      <td>0.0</td>\n",
       "      <td>0.0</td>\n",
       "      <td>32.466365</td>\n",
       "    </tr>\n",
       "    <tr>\n",
       "      <th>1</th>\n",
       "      <td>2018-07-29</td>\n",
       "      <td>32.114474</td>\n",
       "      <td>30.367566</td>\n",
       "      <td>34.989302</td>\n",
       "      <td>32.114474</td>\n",
       "      <td>32.114474</td>\n",
       "      <td>0.500219</td>\n",
       "      <td>0.500219</td>\n",
       "      <td>0.500219</td>\n",
       "      <td>0.500219</td>\n",
       "      <td>0.500219</td>\n",
       "      <td>0.500219</td>\n",
       "      <td>0.0</td>\n",
       "      <td>0.0</td>\n",
       "      <td>0.0</td>\n",
       "      <td>32.614693</td>\n",
       "    </tr>\n",
       "    <tr>\n",
       "      <th>2</th>\n",
       "      <td>2018-07-31</td>\n",
       "      <td>31.964928</td>\n",
       "      <td>29.258480</td>\n",
       "      <td>33.612473</td>\n",
       "      <td>31.964928</td>\n",
       "      <td>31.964928</td>\n",
       "      <td>-0.425308</td>\n",
       "      <td>-0.425308</td>\n",
       "      <td>-0.425308</td>\n",
       "      <td>-0.425308</td>\n",
       "      <td>-0.425308</td>\n",
       "      <td>-0.425308</td>\n",
       "      <td>0.0</td>\n",
       "      <td>0.0</td>\n",
       "      <td>0.0</td>\n",
       "      <td>31.539620</td>\n",
       "    </tr>\n",
       "    <tr>\n",
       "      <th>3</th>\n",
       "      <td>2018-08-02</td>\n",
       "      <td>31.815383</td>\n",
       "      <td>29.521189</td>\n",
       "      <td>34.182068</td>\n",
       "      <td>31.815383</td>\n",
       "      <td>31.815383</td>\n",
       "      <td>0.051880</td>\n",
       "      <td>0.051880</td>\n",
       "      <td>0.051880</td>\n",
       "      <td>0.051880</td>\n",
       "      <td>0.051880</td>\n",
       "      <td>0.051880</td>\n",
       "      <td>0.0</td>\n",
       "      <td>0.0</td>\n",
       "      <td>0.0</td>\n",
       "      <td>31.867264</td>\n",
       "    </tr>\n",
       "    <tr>\n",
       "      <th>4</th>\n",
       "      <td>2018-08-10</td>\n",
       "      <td>31.217203</td>\n",
       "      <td>29.469114</td>\n",
       "      <td>33.912232</td>\n",
       "      <td>31.217203</td>\n",
       "      <td>31.217203</td>\n",
       "      <td>0.441713</td>\n",
       "      <td>0.441713</td>\n",
       "      <td>0.441713</td>\n",
       "      <td>0.441713</td>\n",
       "      <td>0.441713</td>\n",
       "      <td>0.441713</td>\n",
       "      <td>0.0</td>\n",
       "      <td>0.0</td>\n",
       "      <td>0.0</td>\n",
       "      <td>31.658916</td>\n",
       "    </tr>\n",
       "    <tr>\n",
       "      <th>...</th>\n",
       "      <td>...</td>\n",
       "      <td>...</td>\n",
       "      <td>...</td>\n",
       "      <td>...</td>\n",
       "      <td>...</td>\n",
       "      <td>...</td>\n",
       "      <td>...</td>\n",
       "      <td>...</td>\n",
       "      <td>...</td>\n",
       "      <td>...</td>\n",
       "      <td>...</td>\n",
       "      <td>...</td>\n",
       "      <td>...</td>\n",
       "      <td>...</td>\n",
       "      <td>...</td>\n",
       "      <td>...</td>\n",
       "    </tr>\n",
       "    <tr>\n",
       "      <th>79</th>\n",
       "      <td>2018-12-04</td>\n",
       "      <td>39.372102</td>\n",
       "      <td>35.952122</td>\n",
       "      <td>42.284183</td>\n",
       "      <td>37.275200</td>\n",
       "      <td>41.630643</td>\n",
       "      <td>-0.425308</td>\n",
       "      <td>-0.425308</td>\n",
       "      <td>-0.425308</td>\n",
       "      <td>-0.425308</td>\n",
       "      <td>-0.425308</td>\n",
       "      <td>-0.425308</td>\n",
       "      <td>0.0</td>\n",
       "      <td>0.0</td>\n",
       "      <td>0.0</td>\n",
       "      <td>38.946793</td>\n",
       "    </tr>\n",
       "    <tr>\n",
       "      <th>80</th>\n",
       "      <td>2018-12-05</td>\n",
       "      <td>39.289701</td>\n",
       "      <td>35.094296</td>\n",
       "      <td>42.135050</td>\n",
       "      <td>36.888933</td>\n",
       "      <td>41.873655</td>\n",
       "      <td>-0.771121</td>\n",
       "      <td>-0.771121</td>\n",
       "      <td>-0.771121</td>\n",
       "      <td>-0.771121</td>\n",
       "      <td>-0.771121</td>\n",
       "      <td>-0.771121</td>\n",
       "      <td>0.0</td>\n",
       "      <td>0.0</td>\n",
       "      <td>0.0</td>\n",
       "      <td>38.518580</td>\n",
       "    </tr>\n",
       "    <tr>\n",
       "      <th>81</th>\n",
       "      <td>2018-12-06</td>\n",
       "      <td>39.207300</td>\n",
       "      <td>35.678977</td>\n",
       "      <td>43.042762</td>\n",
       "      <td>36.392988</td>\n",
       "      <td>42.140113</td>\n",
       "      <td>0.051880</td>\n",
       "      <td>0.051880</td>\n",
       "      <td>0.051880</td>\n",
       "      <td>0.051880</td>\n",
       "      <td>0.051880</td>\n",
       "      <td>0.051880</td>\n",
       "      <td>0.0</td>\n",
       "      <td>0.0</td>\n",
       "      <td>0.0</td>\n",
       "      <td>39.259180</td>\n",
       "    </tr>\n",
       "    <tr>\n",
       "      <th>82</th>\n",
       "      <td>2018-12-07</td>\n",
       "      <td>39.124899</td>\n",
       "      <td>35.600019</td>\n",
       "      <td>43.575723</td>\n",
       "      <td>35.979105</td>\n",
       "      <td>42.396550</td>\n",
       "      <td>0.441713</td>\n",
       "      <td>0.441713</td>\n",
       "      <td>0.441713</td>\n",
       "      <td>0.441713</td>\n",
       "      <td>0.441713</td>\n",
       "      <td>0.441713</td>\n",
       "      <td>0.0</td>\n",
       "      <td>0.0</td>\n",
       "      <td>0.0</td>\n",
       "      <td>39.566612</td>\n",
       "    </tr>\n",
       "    <tr>\n",
       "      <th>83</th>\n",
       "      <td>2018-12-08</td>\n",
       "      <td>39.042498</td>\n",
       "      <td>35.144456</td>\n",
       "      <td>43.556767</td>\n",
       "      <td>35.546711</td>\n",
       "      <td>42.594453</td>\n",
       "      <td>0.277119</td>\n",
       "      <td>0.277119</td>\n",
       "      <td>0.277119</td>\n",
       "      <td>0.277119</td>\n",
       "      <td>0.277119</td>\n",
       "      <td>0.277119</td>\n",
       "      <td>0.0</td>\n",
       "      <td>0.0</td>\n",
       "      <td>0.0</td>\n",
       "      <td>39.319617</td>\n",
       "    </tr>\n",
       "  </tbody>\n",
       "</table>\n",
       "<p>84 rows × 16 columns</p>\n",
       "</div>"
      ],
      "text/plain": [
       "           ds      trend  yhat_lower  yhat_upper  trend_lower  trend_upper  \\\n",
       "0  2018-07-28  32.189246   30.069361   34.603679    32.189246    32.189246   \n",
       "1  2018-07-29  32.114474   30.367566   34.989302    32.114474    32.114474   \n",
       "2  2018-07-31  31.964928   29.258480   33.612473    31.964928    31.964928   \n",
       "3  2018-08-02  31.815383   29.521189   34.182068    31.815383    31.815383   \n",
       "4  2018-08-10  31.217203   29.469114   33.912232    31.217203    31.217203   \n",
       "..        ...        ...         ...         ...          ...          ...   \n",
       "79 2018-12-04  39.372102   35.952122   42.284183    37.275200    41.630643   \n",
       "80 2018-12-05  39.289701   35.094296   42.135050    36.888933    41.873655   \n",
       "81 2018-12-06  39.207300   35.678977   43.042762    36.392988    42.140113   \n",
       "82 2018-12-07  39.124899   35.600019   43.575723    35.979105    42.396550   \n",
       "83 2018-12-08  39.042498   35.144456   43.556767    35.546711    42.594453   \n",
       "\n",
       "    additive_terms  additive_terms_lower  additive_terms_upper    weekly  \\\n",
       "0         0.277119              0.277119              0.277119  0.277119   \n",
       "1         0.500219              0.500219              0.500219  0.500219   \n",
       "2        -0.425308             -0.425308             -0.425308 -0.425308   \n",
       "3         0.051880              0.051880              0.051880  0.051880   \n",
       "4         0.441713              0.441713              0.441713  0.441713   \n",
       "..             ...                   ...                   ...       ...   \n",
       "79       -0.425308             -0.425308             -0.425308 -0.425308   \n",
       "80       -0.771121             -0.771121             -0.771121 -0.771121   \n",
       "81        0.051880              0.051880              0.051880  0.051880   \n",
       "82        0.441713              0.441713              0.441713  0.441713   \n",
       "83        0.277119              0.277119              0.277119  0.277119   \n",
       "\n",
       "    weekly_lower  weekly_upper  multiplicative_terms  \\\n",
       "0       0.277119      0.277119                   0.0   \n",
       "1       0.500219      0.500219                   0.0   \n",
       "2      -0.425308     -0.425308                   0.0   \n",
       "3       0.051880      0.051880                   0.0   \n",
       "4       0.441713      0.441713                   0.0   \n",
       "..           ...           ...                   ...   \n",
       "79     -0.425308     -0.425308                   0.0   \n",
       "80     -0.771121     -0.771121                   0.0   \n",
       "81      0.051880      0.051880                   0.0   \n",
       "82      0.441713      0.441713                   0.0   \n",
       "83      0.277119      0.277119                   0.0   \n",
       "\n",
       "    multiplicative_terms_lower  multiplicative_terms_upper       yhat  \n",
       "0                          0.0                         0.0  32.466365  \n",
       "1                          0.0                         0.0  32.614693  \n",
       "2                          0.0                         0.0  31.539620  \n",
       "3                          0.0                         0.0  31.867264  \n",
       "4                          0.0                         0.0  31.658916  \n",
       "..                         ...                         ...        ...  \n",
       "79                         0.0                         0.0  38.946793  \n",
       "80                         0.0                         0.0  38.518580  \n",
       "81                         0.0                         0.0  39.259180  \n",
       "82                         0.0                         0.0  39.566612  \n",
       "83                         0.0                         0.0  39.319617  \n",
       "\n",
       "[84 rows x 16 columns]"
      ]
     },
     "execution_count": 37,
     "metadata": {},
     "output_type": "execute_result"
    }
   ],
   "source": [
    "forecast"
   ]
  },
  {
   "cell_type": "markdown",
   "id": "748b4708",
   "metadata": {},
   "source": [
    "#### Check performance of the model with test data"
   ]
  },
  {
   "cell_type": "code",
   "execution_count": 38,
   "id": "30b9ede1",
   "metadata": {},
   "outputs": [
    {
     "name": "stdout",
     "output_type": "stream",
     "text": [
      "RMSE: 2\n"
     ]
    }
   ],
   "source": [
    "from statsmodels.tools.eval_measures import rmse\n",
    "\n",
    "predictions = forecast.iloc[-len(test):]['yhat']\n",
    "actuals = test['y']\n",
    "\n",
    "print(f\"RMSE: {round(rmse(predictions, actuals))}\")"
   ]
  },
  {
   "cell_type": "code",
   "execution_count": 39,
   "id": "6b7f3614",
   "metadata": {},
   "outputs": [
    {
     "data": {
      "text/plain": [
       "38.21355147272534"
      ]
     },
     "execution_count": 39,
     "metadata": {},
     "output_type": "execute_result"
    }
   ],
   "source": [
    "actuals.mean()"
   ]
  },
  {
   "cell_type": "markdown",
   "id": "2210a5a0",
   "metadata": {},
   "source": [
    "#### Check performance of the model with train data"
   ]
  },
  {
   "cell_type": "code",
   "execution_count": 40,
   "id": "095bfb68",
   "metadata": {},
   "outputs": [
    {
     "name": "stdout",
     "output_type": "stream",
     "text": [
      "RMSE: 2\n"
     ]
    }
   ],
   "source": [
    "from statsmodels.tools.eval_measures import rmse\n",
    "\n",
    "predictions = forecast.iloc[:len(train)]['yhat']\n",
    "actuals = train['y']\n",
    "\n",
    "print(f\"RMSE: {round(rmse(predictions, actuals))}\")"
   ]
  },
  {
   "cell_type": "code",
   "execution_count": 41,
   "id": "f4fdbf8c",
   "metadata": {},
   "outputs": [
    {
     "data": {
      "text/plain": [
       "38.61103575439874"
      ]
     },
     "execution_count": 41,
     "metadata": {},
     "output_type": "execute_result"
    }
   ],
   "source": [
    "actuals.mean()"
   ]
  }
 ],
 "metadata": {
  "kernelspec": {
   "display_name": "Python 3 (ipykernel)",
   "language": "python",
   "name": "python3"
  },
  "language_info": {
   "codemirror_mode": {
    "name": "ipython",
    "version": 3
   },
   "file_extension": ".py",
   "mimetype": "text/x-python",
   "name": "python",
   "nbconvert_exporter": "python",
   "pygments_lexer": "ipython3",
   "version": "3.10.1"
  }
 },
 "nbformat": 4,
 "nbformat_minor": 5
}
